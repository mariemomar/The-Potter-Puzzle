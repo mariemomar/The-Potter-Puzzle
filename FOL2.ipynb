{
 "cells": [
  {
   "cell_type": "code",
   "execution_count": 65,
   "metadata": {},
   "outputs": [
    {
     "name": "stdout",
     "output_type": "stream",
     "text": [
      "Who likes the Napoleon cake? \n",
      "{x: Daddy}\n",
      "Who dreams of going to Paris? \n",
      "{x: AuntPolly}\n",
      "\n",
      "\n",
      "more details \n",
      "not dreaming of paris is :  {x: Mummy}\n",
      "not dreaming of paris is :  {x: Betty}\n",
      "not dreaming of paris is :  {x: Peter}\n",
      "not dreaming of paris is :  {x: Daddy}\n",
      "not like nap cake is :  {x: Mummy}\n",
      "not like nap cake is :  {x: AuntPolly}\n",
      "not like nap cake is :  {x: Betty}\n",
      "not like nap cake is :  {x: Peter}\n"
     ]
    }
   ],
   "source": [
    "from aima.logic import FolKB, expr, fol_fc_ask\n",
    "from aima.utils import *\n",
    "\n",
    "# Initialize the Knowledge Base (KB)\n",
    "kb = FolKB()\n",
    "\n",
    "\n",
    "kb.tell(expr(\"Like(Mummy, Marshmallow)\"))\n",
    "kb.tell(expr(\"Like(Betty, Marmalade)\"))\n",
    "kb.tell(expr(\"Like(AuntPolly, IceCream)\"))\n",
    "kb.tell(expr(\"NotLikeCream(Peter)\"))\n",
    "kb.tell(expr(\"GoFishing(Daddy)\"))\n",
    "kb.tell(expr(\"GoFishing(Peter)\"))\n",
    "\n",
    "# Rules\n",
    "kb.tell(expr(\"Like(x, y) & IceCream(y) ==> DreamOfParis(x, Paris)\"))\n",
    "kb.tell(expr(\"Like(x, y) & NotIceCream(y) ==> NotDreamOfParis(x, Paris)\"))\n",
    "kb.tell(expr(\"Like(x, y) & NotNapCake(y) ==> NotLikeNapCake(x, NapeleonCake)\"))\n",
    "kb.tell(expr(\"NotLikeCream(x) ==> NotLikeNapCake(x , NapeleonCake )\"))\n",
    "kb.tell(expr(\"NotLikeCream(x) ==> NotDreamOfParis(x , Paris )\"))\n",
    "kb.tell(expr(\"(GoFishing(x) & NotPeter(x)) ==> WishTripToSea(x)\"))\n",
    "kb.tell(expr(\"WishTripToSea(x) ==> NotDreamOfParis(x , Paris )\"))\n",
    "kb.tell(expr(\"(GoFishing(x) & NotPeter(x)) ==> LikeNapCake(x)\"))\n",
    "\n",
    "\n",
    "\n",
    "kb.tell(expr(\"NotIceCream(Marshmallow)\"))\n",
    "kb.tell(expr(\"NotIceCream(Marmalade)\"))\n",
    "kb.tell(expr(\"NotNapCake(Marmalade)\"))\n",
    "kb.tell(expr(\"NotNapCake(Marshmallow)\"))\n",
    "kb.tell(expr(\"NotNapCake(IceCream)\"))\n",
    "kb.tell(expr(\"IceCream(IceCream)\"))\n",
    "kb.tell(expr(\"NotPeter(Daddy)\"))\n",
    "\n",
    "\n",
    "\n",
    "print (\"Who likes the Napoleon cake? \")\n",
    "for r in fol_fc_ask(kb , expr(\"LikeNapCake(x)\")):\n",
    "    print(r)\n",
    "\n",
    "print(\"Who dreams of going to Paris? \")\n",
    "for r in fol_fc_ask(kb , expr(\"DreamOfParis(x , Paris)\")):\n",
    "    print(r)\n",
    "    \n",
    "print(\"\\n\")\n",
    "print(\"more details \")\n",
    "for r in fol_fc_ask(kb , expr(f\"NotDreamOfParis(x , Paris)\")):\n",
    "    print( \"not dreaming of paris is : \" , r)\n",
    "\n",
    "for r in fol_fc_ask(kb , expr(f\"NotLikeNapCake(x , NapeleonCake)\")):\n",
    "    print( \"not like nap cake is : \" , r)\n",
    "\n",
    "\n",
    "\n"
   ]
  }
 ],
 "metadata": {
  "kernelspec": {
   "display_name": "Python 3",
   "language": "python",
   "name": "python3"
  },
  "language_info": {
   "codemirror_mode": {
    "name": "ipython",
    "version": 3
   },
   "file_extension": ".py",
   "mimetype": "text/x-python",
   "name": "python",
   "nbconvert_exporter": "python",
   "pygments_lexer": "ipython3",
   "version": "3.12.6"
  }
 },
 "nbformat": 4,
 "nbformat_minor": 2
}
