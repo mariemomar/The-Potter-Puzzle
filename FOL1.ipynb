{
 "cells": [
  {
   "cell_type": "code",
   "execution_count": 25,
   "metadata": {},
   "outputs": [],
   "source": [
    "from aima.logic import *\n",
    "from aima.utils import *"
   ]
  },
  {
   "cell_type": "code",
   "execution_count": 26,
   "metadata": {},
   "outputs": [],
   "source": [
    "first_order_kb = FolKB()"
   ]
  },
  {
   "cell_type": "code",
   "execution_count": 27,
   "metadata": {},
   "outputs": [],
   "source": [
    "rules = [\n",
    "    \"Have(Icecream,Cream)\",\n",
    "    \"Have(NapoleonCake,Cream)\",\n",
    "    ##\n",
    "    # 1\n",
    "    \"AttendsYoga(Mummy,Mon)\",\n",
    "    \"AttendsYoga(Mummy,Thur)\",\n",
    "    # 2\n",
    "    \"(Likes(x, Icecream)) ==> (Dreams(x, Paris))\",\n",
    "    # 3\n",
    "    \"Likes(Betty,Marmalade)\",\n",
    "    \"Eats(Betty,Marmalade)\",\n",
    "    # 4\n",
    "    \"Eats(Mummy,Marshmallows)\",\n",
    "    \"Likes(Mummy,Marshmallows)\",\n",
    "    # 5\n",
    "    \"Have(Potters,MoneyBox1,TriptoSea)\",\n",
    "    \"Have(Potters,MoneyBox2,SwanLake)\",\n",
    "    \"Have(Potters,MoneyBox3,AlbumCoins)\",\n",
    "    \"BoxReason(MoneyBox1,TriptoSea)\",\n",
    "    \"BoxReason(MoneyBox2,SwanLake)\",\n",
    "    \"BoxReason(MoneyBox3,AlbumCoins)\",\n",
    "    \"Athome(MoneyBox1)\",\n",
    "    \"Athome(MoneyBox2)\",\n",
    "    \"Athome(MoneyBox3)\",\n",
    "    # 6\n",
    "    \"Have(AuntPolly,SewingMachine)\",\n",
    "    \"Have(AuntPolly,SewingMaterials)\",\n",
    "    \"Athome(SewingMachine)\",\n",
    "    \"Athome(SewingMaterials)\",\n",
    "    \"Made(AuntPolly,BalletSuit,Betty)\",\n",
    "    \"Have(Betty,BalletSuit)\",\n",
    "    # 7\n",
    "    \"GoesFishing(Peter,Dad)\",\n",
    "    \"BecomesBored(Peter,Fishing)\",\n",
    "    # 8\n",
    "    \"Have(y,Cream) ==> Dislikes(Peter,y)\",\n",
    "    # 9\n",
    "    \"NewYearWish(Mummy,W)\",\n",
    "    \"NewYearWish(Dad,W)\",\n",
    "]"
   ]
  },
  {
   "cell_type": "code",
   "execution_count": 28,
   "metadata": {},
   "outputs": [],
   "source": [
    "for rule in rules:\n",
    "    first_order_kb.tell(expr(rule))\n",
    "\n",
    "desserts = [\"Marmalade\", \"Marshmallows\", \"NapoleonCake\", \"Waffles\", \"Icecream\"]\n",
    "people = [\"Peter\", \"Betty\", \"Dad\", \"Mummy\", \"AuntPolly\"]\n",
    "\n",
    "for liker in desserts:\n",
    "    for disliker in desserts:\n",
    "        if liker != disliker: \n",
    "            first_order_kb.tell(expr(f\"Likes(x,{liker}) ==> Dislikes(x,{disliker})\"))\n",
    "\n",
    "for liker in people:\n",
    "    for disliker in people:\n",
    "        if liker != disliker: \n",
    "            first_order_kb.tell(expr(f\"Likes({liker},x) ==> Dislikes({disliker},x)\"))\n"
   ]
  },
  {
   "cell_type": "code",
   "execution_count": 29,
   "metadata": {},
   "outputs": [],
   "source": [
    "Family = [\"Peter\", \"Betty\", \"Dad\", \"Mummy\", \"AuntPolly\"]\n",
    "Desserts = [\"Marmalade\", \"Marshmallows\", \"NapoleonCake\", \"Waffles\", \"Icecream\"]\n",
    "FavouriteDesserts = [\"NapoleonCake\", \"Marmalade\", \"Waffles\"]\n",
    "\n",
    "for member in Family:\n",
    "    dessert_found = False\n",
    "\n",
    "    for dessert in FavouriteDesserts:\n",
    "        dislikes_query = expr(f\"Dislikes({member}, {dessert})\")\n",
    "        dislikes_results = list(fol_fc_ask(first_order_kb, dislikes_query))\n",
    "\n",
    "        if not dislikes_results:\n",
    "            first_order_kb.tell(expr(f\"Likes({member},{dessert})\"))\n",
    "            dessert_found = True\n",
    "            break\n",
    "\n",
    "    if not dessert_found:\n",
    "        for dessert in Desserts:\n",
    "            if dessert not in FavouriteDesserts:\n",
    "                dislikes_query = expr(f\"Dislikes({member}, {dessert})\")\n",
    "                dislikes_results = list(fol_fc_ask(first_order_kb, dislikes_query))\n",
    "\n",
    "                if not dislikes_results:\n",
    "                    first_order_kb.tell(expr(f\"Likes({member},{dessert})\"))\n",
    "                    break"
   ]
  },
  {
   "cell_type": "code",
   "execution_count": 30,
   "metadata": {},
   "outputs": [],
   "source": [
    "dreams_query = expr(\"Dreams(x, Paris)\")\n",
    "likes_napoleon_query = expr(\"Likes(x, NapoleonCake)\")"
   ]
  },
  {
   "cell_type": "code",
   "execution_count": 31,
   "metadata": {},
   "outputs": [
    {
     "name": "stdout",
     "output_type": "stream",
     "text": [
      "People who dream of Paris:\n",
      "{x: AuntPolly}\n"
     ]
    }
   ],
   "source": [
    "print(\"People who dream of Paris:\")\n",
    "for result in fol_fc_ask(first_order_kb, dreams_query):\n",
    "    print(result)"
   ]
  },
  {
   "cell_type": "code",
   "execution_count": 32,
   "metadata": {},
   "outputs": [
    {
     "name": "stdout",
     "output_type": "stream",
     "text": [
      "\n",
      "People who like Napoleon Cake:\n",
      "{x: Dad}\n"
     ]
    }
   ],
   "source": [
    "print(\"\\nPeople who like Napoleon Cake:\")\n",
    "for result in fol_fc_ask(first_order_kb, likes_napoleon_query):\n",
    "    print(result)"
   ]
  }
 ],
 "metadata": {
  "kernelspec": {
   "display_name": "Python 3",
   "language": "python",
   "name": "python3"
  },
  "language_info": {
   "codemirror_mode": {
    "name": "ipython",
    "version": 3
   },
   "file_extension": ".py",
   "mimetype": "text/x-python",
   "name": "python",
   "nbconvert_exporter": "python",
   "pygments_lexer": "ipython3",
   "version": "3.11.5"
  }
 },
 "nbformat": 4,
 "nbformat_minor": 2
}
